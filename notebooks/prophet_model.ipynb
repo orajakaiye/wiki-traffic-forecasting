{
 "cells": [
  {
   "cell_type": "markdown",
   "id": "e5f6ce25",
   "metadata": {},
   "source": [
    "## Prophet Model\n",
    "This notebook applies Facebook Prophet to forecast page views."
   ]
  },
  {
   "cell_type": "code",
   "execution_count": null,
   "id": "33e740f1",
   "metadata": {},
   "outputs": [],
   "source": [
    "import pandas as pd\n",
    "from prophet import Prophet\n",
    "import matplotlib.pyplot as plt\n",
    "from sklearn.metrics import mean_squared_error\n",
    "\n",
    "df = pd.read_csv('wiki_traffic_cleaned.csv')\n",
    "page = df['Page'].unique()[0]\n",
    "data = df[df['Page'] == page][['Date', 'Views']].rename(columns={'Date': 'ds', 'Views': 'y'})\n",
    "\n",
    "# Split train/test\n",
    "train, test = data.iloc[:-30], data.iloc[-30:]\n",
    "\n",
    "# Fit Prophet\n",
    "m = Prophet()\n",
    "m.fit(train)\n",
    "\n",
    "# Predict\n",
    "future = m.make_future_dataframe(periods=30)\n",
    "forecast = m.predict(future)\n",
    "\n",
    "# Plot\n",
    "fig = m.plot(forecast)\n",
    "plt.title(f'Prophet Forecast for {page}')\n",
    "plt.show()\n",
    "\n",
    "pred = forecast.iloc[-30:]['yhat'].values\n",
    "print('Test RMSE:', mean_squared_error(test['y'], pred, squared=False))"
   ]
  }
 ],
 "metadata": {},
 "nbformat": 4,
 "nbformat_minor": 5
}
