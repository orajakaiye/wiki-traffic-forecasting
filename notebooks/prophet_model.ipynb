# Prophet Model

This notebook applies Facebook Prophet to forecast page views.

# Code will be added here.
