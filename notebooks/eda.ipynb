{
 "cells": [
  {
   "cell_type": "markdown",
   "id": "d13f5a7e",
   "metadata": {},
   "source": [
    "## Exploratory Data Analysis\n",
    "This notebook visualizes trends, seasonality, and outliers in the web traffic data."
   ]
  },
  {
   "cell_type": "code",
   "execution_count": null,
   "id": "cf1a6ccf",
   "metadata": {},
   "outputs": [],
   "source": [
    "import pandas as pd\n",
    "import matplotlib.pyplot as plt\n",
    "\n",
    "df = pd.read_csv('wiki_traffic_cleaned.csv')\n",
    "\n",
    "# Focus on one page for demo\n",
    "page = df['Page'].unique()[0]\n",
    "page_data = df[df['Page'] == page].copy()\n",
    "\n",
    "# Plot daily views\n",
    "plt.figure(figsize=(14,6))\n",
    "plt.plot(page_data['Date'], page_data['Views'])\n",
    "plt.title(f'Daily Views for {page}')\n",
    "plt.xlabel('Date')\n",
    "plt.ylabel('Views')\n",
    "plt.show()\n",
    "\n",
    "# Summary stats\n",
    "print(page_data['Views'].describe())"
   ]
  }
 ],
 "metadata": {},
 "nbformat": 4,
 "nbformat_minor": 5
}
