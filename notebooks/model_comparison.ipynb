{
 "cells": [
  {
   "cell_type": "markdown",
   "id": "020a643d",
   "metadata": {},
   "source": [
    "## Model Comparison\n",
    "This notebook evaluates and compares ARIMA, Prophet, and LSTM models."
   ]
  },
  {
   "cell_type": "code",
   "execution_count": null,
   "id": "a5071854",
   "metadata": {},
   "outputs": [],
   "source": [
    "import pandas as pd\n",
    "import matplotlib.pyplot as plt\n",
    "\n",
    "# Suppose you save all RMSE/MAPE from previous notebooks as variables\n",
    "arima_rmse = 1000    # placeholder value\n",
    "prophet_rmse = 900   # placeholder value\n",
    "lstm_rmse = 950      # placeholder value\n",
    "\n",
    "results = pd.DataFrame({\n",
    "    'Model': ['ARIMA', 'Prophet', 'LSTM'],\n",
    "    'Test RMSE': [arima_rmse, prophet_rmse, lstm_rmse]\n",
    "})\n",
    "\n",
    "print(results)\n",
    "results.plot.bar(x='Model', y='Test RMSE', legend=False, title='Model RMSE Comparison')\n",
    "plt.ylabel('RMSE')\n",
    "plt.show()"
   ]
  }
 ],
 "metadata": {},
 "nbformat": 4,
 "nbformat_minor": 5
}
