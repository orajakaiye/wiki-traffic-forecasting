# ARIMA Model

This notebook applies ARIMA to forecast page views.

# Code will be added here.
