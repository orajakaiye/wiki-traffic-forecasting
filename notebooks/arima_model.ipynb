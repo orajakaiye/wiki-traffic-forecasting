{
 "cells": [
  {
   "cell_type": "markdown",
   "id": "95d8aade",
   "metadata": {},
   "source": [
    "## ARIMA Model\n",
    "This notebook applies ARIMA to forecast page views."
   ]
  },
  {
   "cell_type": "code",
   "execution_count": null,
   "id": "65d993a8",
   "metadata": {},
   "outputs": [],
   "source": [
    "import pandas as pd\n",
    "from statsmodels.tsa.arima.model import ARIMA\n",
    "import matplotlib.pyplot as plt\n",
    "from sklearn.metrics import mean_squared_error\n",
    "\n",
    "df = pd.read_csv('wiki_traffic_cleaned.csv')\n",
    "page = df['Page'].unique()[0]\n",
    "data = df[df['Page'] == page].set_index('Date')['Views']\n",
    "\n",
    "# Split train/test (last 30 days as test)\n",
    "train, test = data[:-30], data[-30:]\n",
    "\n",
    "# Fit ARIMA (auto_order can be found via auto_arima, here we use (2,1,2) as example)\n",
    "model = ARIMA(train, order=(2,1,2))\n",
    "model_fit = model.fit()\n",
    "forecast = model_fit.forecast(steps=30)\n",
    "\n",
    "# Plot\n",
    "plt.figure(figsize=(12,5))\n",
    "plt.plot(train.index, train, label='Train')\n",
    "plt.plot(test.index, test, label='Test')\n",
    "plt.plot(test.index, forecast, label='ARIMA Forecast')\n",
    "plt.legend()\n",
    "plt.show()\n",
    "\n",
    "print('Test RMSE:', mean_squared_error(test, forecast, squared=False))"
   ]
  }
 ],
 "metadata": {},
 "nbformat": 4,
 "nbformat_minor": 5
}
